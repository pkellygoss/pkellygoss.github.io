{
  "nbformat": 4,
  "nbformat_minor": 0,
  "metadata": {
    "colab": {
      "provenance": []
    },
    "kernelspec": {
      "name": "python3",
      "display_name": "Python 3"
    },
    "language_info": {
      "name": "python"
    }
  },
  "cells": [
    {
      "cell_type": "code",
      "execution_count": 1,
      "metadata": {
        "id": "_5l_0-TPsE30"
      },
      "outputs": [],
      "source": [
        "import requests\n",
        "import pandas as pd"
      ]
    },
    {
      "cell_type": "code",
      "source": [
        "URL = \"https://api.weather.gov/points/40.7128,-74.0369\"\n",
        "response = requests.get(URL)\n",
        "response.json()"
      ],
      "metadata": {
        "id": "nACv_rQUsPA3"
      },
      "execution_count": null,
      "outputs": []
    },
    {
      "cell_type": "code",
      "source": [
        "URL = \"https://api.weather.gov/gridpoints/OKX/32,35/forecast/hourly\"\n",
        "response = requests.get(URL)\n",
        "response.json()"
      ],
      "metadata": {
        "id": "Ykule35zuIMW"
      },
      "execution_count": null,
      "outputs": []
    },
    {
      "cell_type": "code",
      "source": [
        "periods = response.json()[\"properties\"][\"periods\"]\n",
        "\n",
        "temp_dict ={}\n",
        "for period in periods:\n",
        "    temp_dict[period[\"startTime\"]] = period[\"temperature\"]\n",
        "\n",
        "temp_dict"
      ],
      "metadata": {
        "id": "Lpw06izO0XfJ"
      },
      "execution_count": null,
      "outputs": []
    },
    {
      "cell_type": "code",
      "source": [
        "temp_df = (\n",
        "    pd.DataFrame({\n",
        "      \"Datetime\": temp_dict.keys(),\n",
        "      \"Temperature (F)\": temp_dict.values()\n",
        "    })\n",
        ")\n",
        "\n",
        "temp_df[\"Datetime\"] = pd.to_datetime(temp_df [\"Datetime\"])\n",
        "temp_df.head()"
      ],
      "metadata": {
        "id": "oALRWRxc1n5g"
      },
      "execution_count": null,
      "outputs": []
    }
  ]
}